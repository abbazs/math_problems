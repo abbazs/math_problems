{
 "cells": [
  {
   "cell_type": "code",
   "execution_count": 11,
   "metadata": {},
   "outputs": [],
   "source": [
    "import pandas as pd\n",
    "import numpy as np\n",
    "from IPython.display import HTML\n",
    "from IPython.display import display_html"
   ]
  },
  {
   "cell_type": "code",
   "execution_count": null,
   "metadata": {},
   "outputs": [],
   "source": [
    "df = pd.DataFrame({\"x\":np.random.randint(10000, 99999, size=100),\"y\":np.random.randint(10000, 99999, size=100), \"ans\":None})"
   ]
  },
  {
   "cell_type": "code",
   "execution_count": null,
   "metadata": {},
   "outputs": [],
   "source": [
    "df.to_excel(\"multi.xlsx\")"
   ]
  },
  {
   "cell_type": "code",
   "execution_count": 3,
   "metadata": {},
   "outputs": [],
   "source": [
    "df = pd.DataFrame({\"x\":np.random.randint(100, 999, size=100),\"y\":np.random.randint(100, 999, size=100), \"ans\":None})\n",
    "df.to_excel(\"3digit_multi.xlsx\")"
   ]
  },
  {
   "cell_type": "code",
   "execution_count": 15,
   "metadata": {},
   "outputs": [
    {
     "data": {
      "text/plain": [
       "0    7249 x 589 = __________\n",
       "1    7722 x 886 = __________\n",
       "2    7907 x 108 = __________\n",
       "3    8052 x 901 = __________\n",
       "4    4517 x 864 = __________\n",
       "5    4152 x 763 = __________\n",
       "6    5174 x 987 = __________\n",
       "7    7347 x 716 = __________\n",
       "8    4277 x 233 = __________\n",
       "9    8156 x 958 = __________\n",
       "dtype: object"
      ]
     },
     "metadata": {},
     "output_type": "display_data"
    }
   ],
   "source": [
    "df = pd.DataFrame({\"x\":np.random.randint(1000, 9999, size=10),\"y\":np.random.randint(100, 999, size=10), \"ans\":\"_\"*10})\n",
    "display(df.apply(lambda x: f\"{x.x} x {x.y} = {'_'*10}\", axis=1))\n"
   ]
  }
 ],
 "metadata": {
  "interpreter": {
   "hash": "9ede228d032293c1e571d90f9fed9f148f352ff03c0588117253fdc0b86cc169"
  },
  "kernelspec": {
   "display_name": "Python 3.9.5 64-bit ('.venv': poetry)",
   "name": "python3"
  },
  "language_info": {
   "codemirror_mode": {
    "name": "ipython",
    "version": 3
   },
   "file_extension": ".py",
   "mimetype": "text/x-python",
   "name": "python",
   "nbconvert_exporter": "python",
   "pygments_lexer": "ipython3",
   "version": "3.9.9"
  },
  "orig_nbformat": 4
 },
 "nbformat": 4,
 "nbformat_minor": 2
}
